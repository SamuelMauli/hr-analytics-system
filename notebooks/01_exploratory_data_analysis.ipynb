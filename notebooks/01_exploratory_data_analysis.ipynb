{
 "cells": [
  {
   "cell_type": "markdown",
   "metadata": {},
   "source": [
    "# Análise Exploratória de Dados (EDA) - HR Analytics\n",
    "\n",
    "Este notebook realiza uma análise exploratória completa do dataset de rotatividade de funcionários.\n",
    "\n",
    "## Objetivos:\n",
    "1. Compreender a distribuição das variáveis\n",
    "2. Identificar padrões e correlações\n",
    "3. Detectar anomalias e outliers\n",
    "4. Gerar insights para modelagem preditiva"
   ]
  },
  {
   "cell_type": "code",
   "execution_count": null,
   "metadata": {},
   "outputs": [],
   "source": [
    "# Importar bibliotecas\n",
    "import sys\n",
    "sys.path.append('..')\n",
    "\n",
    "import pandas as pd\n",
    "import numpy as np\n",
    "import matplotlib.pyplot as plt\n",
    "import seaborn as sns\n",
    "import plotly.express as px\n",
    "import plotly.graph_objects as go\n",
    "from plotly.subplots import make_subplots\n",
    "\n",
    "from config.config import RAW_DATA_DIR, PROCESSED_DATA_DIR, DATASET_FILE\n",
    "\n",
    "# Configurações de visualização\n",
    "plt.style.use('seaborn-v0_8-darkgrid')\n",
    "sns.set_palette('viridis')\n",
    "%matplotlib inline\n",
    "\n",
    "# Configurar pandas\n",
    "pd.set_option('display.max_columns', None)\n",
    "pd.set_option('display.max_rows', 100)\n",
    "\n",
    "print(\"Bibliotecas importadas com sucesso!\")"
   ]
  },
  {
   "cell_type": "markdown",
   "metadata": {},
   "source": [
    "## 1. Carregamento e Visão Geral dos Dados"
   ]
  },
  {
   "cell_type": "code",
   "execution_count": null,
   "metadata": {},
   "outputs": [],
   "source": [
    "# Carregar dados\n",
    "df = pd.read_csv(RAW_DATA_DIR / DATASET_FILE)\n",
    "\n",
    "print(f\"Shape do dataset: {df.shape}\")\n",
    "print(f\"\\nPrimeiras linhas:\")\n",
    "df.head()"
   ]
  },
  {
   "cell_type": "code",
   "execution_count": null,
   "metadata": {},
   "outputs": [],
   "source": [
    "# Informações gerais\n",
    "df.info()"
   ]
  },
  {
   "cell_type": "code",
   "execution_count": null,
   "metadata": {},
   "outputs": [],
   "source": [
    "# Estatísticas descritivas\n",
    "df.describe()"
   ]
  },
  {
   "cell_type": "code",
   "execution_count": null,
   "metadata": {},
   "outputs": [],
   "source": [
    "# Verificar valores ausentes\n",
    "missing = df.isnull().sum()\n",
    "missing_pct = (missing / len(df)) * 100\n",
    "missing_df = pd.DataFrame({'Missing': missing, 'Percentage': missing_pct})\n",
    "missing_df[missing_df['Missing'] > 0].sort_values('Missing', ascending=False)"
   ]
  },
  {
   "cell_type": "markdown",
   "metadata": {},
   "source": [
    "## 2. Análise da Variável Target (Attrition)"
   ]
  },
  {
   "cell_type": "code",
   "execution_count": null,
   "metadata": {},
   "outputs": [],
   "source": [
    "# Distribuição de Attrition\n",
    "attrition_counts = df['Attrition'].value_counts()\n",
    "attrition_pct = df['Attrition'].value_counts(normalize=True) * 100\n",
    "\n",
    "print(\"Distribuição de Attrition:\")\n",
    "print(f\"Stayed (0): {attrition_counts[0]} ({attrition_pct[0]:.2f}%)\")\n",
    "print(f\"Left (1): {attrition_counts[1]} ({attrition_pct[1]:.2f}%)\")\n",
    "\n",
    "# Visualização\n",
    "fig = make_subplots(rows=1, cols=2, specs=[[{'type':'bar'}, {'type':'pie'}]])\n",
    "\n",
    "fig.add_trace(\n",
    "    go.Bar(x=['Stayed', 'Left'], y=attrition_counts.values, name='Count'),\n",
    "    row=1, col=1\n",
    ")\n",
    "\n",
    "fig.add_trace(\n",
    "    go.Pie(labels=['Stayed', 'Left'], values=attrition_counts.values),\n",
    "    row=1, col=2\n",
    ")\n",
    "\n",
    "fig.update_layout(title_text=\"Distribuição de Attrition\", showlegend=False)\n",
    "fig.show()"
   ]
  },
  {
   "cell_type": "markdown",
   "metadata": {},
   "source": [
    "## 3. Análise Univariada - Features Numéricas"
   ]
  },
  {
   "cell_type": "code",
   "execution_count": null,
   "metadata": {},
   "outputs": [],
   "source": [
    "# Features numéricas\n",
    "numeric_features = ['Age', 'YearsAtCompany', 'MonthlyIncome', 'NumberOfPromotions', 'DistanceFromHome', 'CompanyTenure']\n",
    "\n",
    "# Histogramas\n",
    "fig, axes = plt.subplots(2, 3, figsize=(15, 10))\n",
    "axes = axes.ravel()\n",
    "\n",
    "for idx, col in enumerate(numeric_features):\n",
    "    axes[idx].hist(df[col], bins=30, edgecolor='black', alpha=0.7)\n",
    "    axes[idx].set_title(f'Distribuição de {col}')\n",
    "    axes[idx].set_xlabel(col)\n",
    "    axes[idx].set_ylabel('Frequência')\n",
    "\n",
    "plt.tight_layout()\n",
    "plt.show()"
   ]
  },
  {
   "cell_type": "code",
   "execution_count": null,
   "metadata": {},
   "outputs": [],
   "source": [
    "# Boxplots para detectar outliers\n",
    "fig, axes = plt.subplots(2, 3, figsize=(15, 10))\n",
    "axes = axes.ravel()\n",
    "\n",
    "for idx, col in enumerate(numeric_features):\n",
    "    axes[idx].boxplot(df[col])\n",
    "    axes[idx].set_title(f'Boxplot de {col}')\n",
    "    axes[idx].set_ylabel(col)\n",
    "\n",
    "plt.tight_layout()\n",
    "plt.show()"
   ]
  },
  {
   "cell_type": "markdown",
   "metadata": {},
   "source": [
    "## 4. Análise Univariada - Features Categóricas"
   ]
  },
  {
   "cell_type": "code",
   "execution_count": null,
   "metadata": {},
   "outputs": [],
   "source": [
    "# Features categóricas\n",
    "categorical_features = ['Gender', 'JobRole', 'WorkLifeBalance', 'JobSatisfaction', \n",
    "                        'PerformanceRating', 'EducationLevel', 'MaritalStatus', \n",
    "                        'JobLevel', 'CompanySize', 'RemoteWork']\n",
    "\n",
    "# Gráficos de barras\n",
    "fig, axes = plt.subplots(4, 3, figsize=(18, 16))\n",
    "axes = axes.ravel()\n",
    "\n",
    "for idx, col in enumerate(categorical_features[:10]):\n",
    "    value_counts = df[col].value_counts()\n",
    "    axes[idx].bar(range(len(value_counts)), value_counts.values)\n",
    "    axes[idx].set_title(f'Distribuição de {col}')\n",
    "    axes[idx].set_xticks(range(len(value_counts)))\n",
    "    axes[idx].set_xticklabels(value_counts.index, rotation=45, ha='right')\n",
    "    axes[idx].set_ylabel('Frequência')\n",
    "\n",
    "# Remover eixos extras\n",
    "for idx in range(len(categorical_features[:10]), len(axes)):\n",
    "    fig.delaxes(axes[idx])\n",
    "\n",
    "plt.tight_layout()\n",
    "plt.show()"
   ]
  },
  {
   "cell_type": "markdown",
   "metadata": {},
   "source": [
    "## 5. Análise Bivariada - Features vs Attrition"
   ]
  },
  {
   "cell_type": "code",
   "execution_count": null,
   "metadata": {},
   "outputs": [],
   "source": [
    "# Features numéricas vs Attrition\n",
    "fig, axes = plt.subplots(2, 3, figsize=(15, 10))\n",
    "axes = axes.ravel()\n",
    "\n",
    "for idx, col in enumerate(numeric_features):\n",
    "    df.boxplot(column=col, by='Attrition', ax=axes[idx])\n",
    "    axes[idx].set_title(f'{col} vs Attrition')\n",
    "    axes[idx].set_xlabel('Attrition')\n",
    "    axes[idx].set_ylabel(col)\n",
    "\n",
    "plt.suptitle('')\n",
    "plt.tight_layout()\n",
    "plt.show()"
   ]
  },
  {
   "cell_type": "code",
   "execution_count": null,
   "metadata": {},
   "outputs": [],
   "source": [
    "# Features categóricas vs Attrition\n",
    "key_categorical = ['JobSatisfaction', 'WorkLifeBalance', 'PerformanceRating', 'JobRole']\n",
    "\n",
    "fig, axes = plt.subplots(2, 2, figsize=(15, 12))\n",
    "axes = axes.ravel()\n",
    "\n",
    "for idx, col in enumerate(key_categorical):\n",
    "    ct = pd.crosstab(df[col], df['Attrition'], normalize='index') * 100\n",
    "    ct.plot(kind='bar', stacked=False, ax=axes[idx])\n",
    "    axes[idx].set_title(f'{col} vs Attrition (%)')\n",
    "    axes[idx].set_xlabel(col)\n",
    "    axes[idx].set_ylabel('Percentage')\n",
    "    axes[idx].legend(['Stayed', 'Left'])\n",
    "    axes[idx].tick_params(axis='x', rotation=45)\n",
    "\n",
    "plt.tight_layout()\n",
    "plt.show()"
   ]
  },
  {
   "cell_type": "markdown",
   "metadata": {},
   "source": [
    "## 6. Análise de Correlação"
   ]
  },
  {
   "cell_type": "code",
   "execution_count": null,
   "metadata": {},
   "outputs": [],
   "source": [
    "# Carregar dados processados para análise de correlação\n",
    "df_processed = pd.read_csv(PROCESSED_DATA_DIR / 'employee_attrition_processed.csv')\n",
    "\n",
    "# Selecionar apenas features numéricas\n",
    "numeric_cols = df_processed.select_dtypes(include=[np.number]).columns\n",
    "correlation_matrix = df_processed[numeric_cols].corr()\n",
    "\n",
    "# Heatmap de correlação\n",
    "plt.figure(figsize=(14, 12))\n",
    "sns.heatmap(correlation_matrix, annot=False, cmap='coolwarm', center=0, \n",
    "            square=True, linewidths=0.5)\n",
    "plt.title('Matriz de Correlação - Features Numéricas')\n",
    "plt.tight_layout()\n",
    "plt.show()"
   ]
  },
  {
   "cell_type": "code",
   "execution_count": null,
   "metadata": {},
   "outputs": [],
   "source": [
    "# Correlação com Attrition\n",
    "attrition_corr = correlation_matrix['Attrition'].sort_values(ascending=False)\n",
    "\n",
    "plt.figure(figsize=(10, 8))\n",
    "attrition_corr.drop('Attrition').plot(kind='barh')\n",
    "plt.title('Correlação das Features com Attrition')\n",
    "plt.xlabel('Correlação')\n",
    "plt.tight_layout()\n",
    "plt.show()\n",
    "\n",
    "print(\"\\nTop 10 features mais correlacionadas com Attrition:\")\n",
    "print(attrition_corr.drop('Attrition').head(10))"
   ]
  },
  {
   "cell_type": "markdown",
   "metadata": {},
   "source": [
    "## 7. Insights e Conclusões"
   ]
  },
  {
   "cell_type": "code",
   "execution_count": null,
   "metadata": {},
   "outputs": [],
   "source": [
    "# Resumo estatístico por Attrition\n",
    "print(\"Resumo Estatístico por Attrition:\\n\")\n",
    "for col in numeric_features:\n",
    "    print(f\"\\n{col}:\")\n",
    "    print(df.groupby('Attrition')[col].describe()[['mean', 'std', '50%']])"
   ]
  },
  {
   "cell_type": "code",
   "execution_count": null,
   "metadata": {},
   "outputs": [],
   "source": [
    "# Taxa de attrition por categoria\n",
    "print(\"\\nTaxa de Attrition por Categoria:\\n\")\n",
    "for col in key_categorical:\n",
    "    attrition_rate = df.groupby(col)['Attrition'].mean() * 100\n",
    "    print(f\"\\n{col}:\")\n",
    "    print(attrition_rate.sort_values(ascending=False))"
   ]
  },
  {
   "cell_type": "markdown",
   "metadata": {},
   "source": [
    "## Principais Insights:\n",
    "\n",
    "1. **Desbalanceamento de Classes**: O dataset apresenta desbalanceamento, com ~80% de funcionários que permaneceram e ~20% que saíram.\n",
    "\n",
    "2. **Features Mais Relevantes**:\n",
    "   - Job Satisfaction: Funcionários com baixa satisfação têm maior taxa de rotatividade\n",
    "   - Work-Life Balance: Equilíbrio ruim está associado a maior attrition\n",
    "   - Monthly Income: Salários mais baixos correlacionam com maior rotatividade\n",
    "   - Number of Promotions: Falta de promoções aumenta o risco de saída\n",
    "\n",
    "3. **Padrões Identificados**:\n",
    "   - Funcionários jovens (18-25) têm maior taxa de rotatividade\n",
    "   - Distância de casa impacta a decisão de permanecer\n",
    "   - Reconhecimento baixo está fortemente associado à saída\n",
    "\n",
    "4. **Próximos Passos**:\n",
    "   - Aplicar SMOTE para balancear as classes\n",
    "   - Testar múltiplos algoritmos de ML (Logistic Regression, Random Forest, XGBoost)\n",
    "   - Realizar feature engineering adicional\n",
    "   - Otimizar hiperparâmetros com GridSearchCV"
   ]
  }
 ],
 "metadata": {
  "kernelspec": {
   "display_name": "Python 3",
   "language": "python",
   "name": "python3"
  },
  "language_info": {
   "codemirror_mode": {
    "name": "ipython",
    "version": 3
   },
   "file_extension": ".py",
   "mimetype": "text/x-python",
   "name": "python",
   "nbconvert_exporter": "python",
   "pygments_lexer": "ipython3",
   "version": "3.11.0"
  }
 },
 "nbformat": 4,
 "nbformat_minor": 4
}

